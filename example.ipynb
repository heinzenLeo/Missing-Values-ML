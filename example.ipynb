{
 "cells": [
  {
   "cell_type": "code",
   "execution_count": 1,
   "id": "0d29b9cb-e980-4ae5-b64d-05442b7d1096",
   "metadata": {},
   "outputs": [],
   "source": [
    "import pandas as pd\n",
    "from sklearn.model_selection import train_test_split"
   ]
  },
  {
   "cell_type": "code",
   "execution_count": 2,
   "id": "8ffa06f5-19d1-4b44-9606-05fdcfea2462",
   "metadata": {},
   "outputs": [],
   "source": [
    "df = pd.read_csv('train.csv', index_col='Id')\n",
    "\n",
    "df.dropna(subset=['SalePrice'], axis=0, inplace=True)\n",
    "y = df.SalePrice\n",
    "\n",
    "X = df.drop(['SalePrice'], axis=1)"
   ]
  },
  {
   "cell_type": "code",
   "execution_count": 3,
   "id": "3456c9a5-f5da-4e52-8c8f-2fea53af9aab",
   "metadata": {},
   "outputs": [],
   "source": [
    "X_train, X_valid, y_train, y_valid = train_test_split(X, y, test_size=0.2, random_state=0)"
   ]
  },
  {
   "cell_type": "markdown",
   "id": "f9902416-095e-48d4-90c0-c5f8773d549c",
   "metadata": {},
   "source": [
    "---"
   ]
  },
  {
   "cell_type": "code",
   "execution_count": 4,
   "id": "8eb0948f-b827-4c71-aaa7-85df384d9095",
   "metadata": {},
   "outputs": [],
   "source": [
    "df2 = pd.read_csv('melb_data.csv')\n",
    "df2.dropna(subset=['Price'], axis=0, inplace=True)\n",
    "y2 = df2.Price\n",
    "\n",
    "X2 = df2.drop(['Price'], axis=1)"
   ]
  },
  {
   "cell_type": "code",
   "execution_count": 5,
   "id": "190fd9d3-a86f-4bdb-8ae0-c4f0f7a0c0b4",
   "metadata": {},
   "outputs": [],
   "source": [
    "X_train_1, X_valid_1, y_train_1, y_valid_1 = train_test_split(X2, y2, test_size=0.2, random_state=0)"
   ]
  },
  {
   "cell_type": "markdown",
   "id": "916409f2-acad-48fa-a642-036286956391",
   "metadata": {},
   "source": [
    "# Until here:\n",
    "- I imported pandas as train_test_split, from sklearn\n",
    "- I loaded 2 different datasets:\n",
    "- (melb_data: https://www.kaggle.com/datasets/dansbecker/melbourne-housing-snapshot?select=melb_data.csv) -- (train: in Categorical Variables, in Intermidiate ML from: https://www.kaggle.com)\n",
    "- I set X, y and X2, y2, so that there is data and target variables from 2 different datasets"
   ]
  },
  {
   "cell_type": "markdown",
   "id": "650cb76f-1ebd-4864-b9bf-521479db6805",
   "metadata": {},
   "source": [
    "---"
   ]
  },
  {
   "cell_type": "markdown",
   "id": "f18d27ad-36f4-4d29-b11b-42c67c9a0287",
   "metadata": {},
   "source": [
    "# Next:\n",
    "- Simply import the function nan_columns and use it\n",
    "- Enjoy it!"
   ]
  },
  {
   "cell_type": "code",
   "execution_count": 6,
   "id": "a7ae27cf-a96c-423d-9c58-652f5d2b0a2d",
   "metadata": {},
   "outputs": [],
   "source": [
    "from main import nan_columns"
   ]
  },
  {
   "cell_type": "markdown",
   "id": "27fc0b0a-84e4-4c70-aab9-e83519c60ac6",
   "metadata": {},
   "source": [
    "# Using the first dataset (train.csv):"
   ]
  },
  {
   "cell_type": "code",
   "execution_count": 7,
   "id": "16cbaf24-5d3c-4be0-975b-da721f16fe20",
   "metadata": {},
   "outputs": [
    {
     "name": "stdout",
     "output_type": "stream",
     "text": [
      "|X_train| --> (columns w/ nan values, number of missing values): \n",
      "\n",
      "LotFrontage      212\n",
      "Alley           1097\n",
      "MasVnrType       707\n",
      "MasVnrArea         6\n",
      "BsmtQual          28\n",
      "BsmtCond          28\n",
      "BsmtExposure      28\n",
      "BsmtFinType1      28\n",
      "BsmtFinType2      29\n",
      "Electrical         1\n",
      "FireplaceQu      551\n",
      "GarageType        58\n",
      "GarageYrBlt       58\n",
      "GarageFinish      58\n",
      "GarageQual        58\n",
      "GarageCond        58\n",
      "PoolQC          1164\n",
      "Fence            954\n",
      "MiscFeature     1119\n",
      "dtype: int64 \n",
      "\n",
      "Number of columns with missing values: 19 \n",
      " ------------------------------------------- \n",
      "\n",
      "\n",
      "|X_valid| --> (columns w/ nan values, number of missing values): \n",
      "\n",
      "LotFrontage      47\n",
      "Alley           272\n",
      "MasVnrType      165\n",
      "MasVnrArea        2\n",
      "BsmtQual          9\n",
      "BsmtCond          9\n",
      "BsmtExposure     10\n",
      "BsmtFinType1      9\n",
      "BsmtFinType2      9\n",
      "FireplaceQu     139\n",
      "GarageType       23\n",
      "GarageYrBlt      23\n",
      "GarageFinish     23\n",
      "GarageQual       23\n",
      "GarageCond       23\n",
      "PoolQC          289\n",
      "Fence           225\n",
      "MiscFeature     287\n",
      "dtype: int64 \n",
      "\n",
      "Number of columns with missing values: 18 \n",
      " ------------------------------------------- \n",
      "\n",
      "Column: |Electrical| from X_train has missing values and it is NOT in X_valid \n",
      "\n"
     ]
    }
   ],
   "source": [
    "nan_columns(X_train, X_valid)"
   ]
  },
  {
   "cell_type": "markdown",
   "id": "1909cc32-f3fb-4f40-ae93-63354ecaa630",
   "metadata": {},
   "source": [
    "## Or we could do so:"
   ]
  },
  {
   "cell_type": "code",
   "execution_count": 8,
   "id": "228761c4-efde-4735-aeb7-970ef1f5a034",
   "metadata": {},
   "outputs": [
    {
     "name": "stdout",
     "output_type": "stream",
     "text": [
      "|X_valid| --> (columns w/ nan values, number of missing values): \n",
      "\n",
      "LotFrontage      47\n",
      "Alley           272\n",
      "MasVnrType      165\n",
      "MasVnrArea        2\n",
      "BsmtQual          9\n",
      "BsmtCond          9\n",
      "BsmtExposure     10\n",
      "BsmtFinType1      9\n",
      "BsmtFinType2      9\n",
      "FireplaceQu     139\n",
      "GarageType       23\n",
      "GarageYrBlt      23\n",
      "GarageFinish     23\n",
      "GarageQual       23\n",
      "GarageCond       23\n",
      "PoolQC          289\n",
      "Fence           225\n",
      "MiscFeature     287\n",
      "dtype: int64 \n",
      "\n",
      "Number of columns with missing values: 18 \n",
      " ------------------------------------------- \n",
      "\n",
      "\n",
      "|X_train| --> (columns w/ nan values, number of missing values): \n",
      "\n",
      "LotFrontage      212\n",
      "Alley           1097\n",
      "MasVnrType       707\n",
      "MasVnrArea         6\n",
      "BsmtQual          28\n",
      "BsmtCond          28\n",
      "BsmtExposure      28\n",
      "BsmtFinType1      28\n",
      "BsmtFinType2      29\n",
      "Electrical         1\n",
      "FireplaceQu      551\n",
      "GarageType        58\n",
      "GarageYrBlt       58\n",
      "GarageFinish      58\n",
      "GarageQual        58\n",
      "GarageCond        58\n",
      "PoolQC          1164\n",
      "Fence            954\n",
      "MiscFeature     1119\n",
      "dtype: int64 \n",
      "\n",
      "Number of columns with missing values: 19 \n",
      " ------------------------------------------- \n",
      "\n",
      "Column: |Electrical| from X_train has missing values and it is NOT in X_valid\n"
     ]
    }
   ],
   "source": [
    "nan_columns(X_valid, X_train)"
   ]
  },
  {
   "cell_type": "markdown",
   "id": "ea288b47-f430-4da1-94b8-64ab4fdae385",
   "metadata": {},
   "source": [
    "---"
   ]
  },
  {
   "cell_type": "markdown",
   "id": "72eb0d98-e844-4827-a9df-dddf846a59b5",
   "metadata": {},
   "source": [
    "# Using the other dataset (melb_data.csv):"
   ]
  },
  {
   "cell_type": "code",
   "execution_count": 9,
   "id": "c558f627-e030-400a-a942-a222369f88c0",
   "metadata": {},
   "outputs": [
    {
     "name": "stdout",
     "output_type": "stream",
     "text": [
      "|X_train_1| --> (columns w/ nan values, number of missing values): \n",
      "\n",
      "Car               49\n",
      "BuildingArea    5156\n",
      "YearBuilt       4307\n",
      "CouncilArea     1072\n",
      "dtype: int64 \n",
      "\n",
      "Number of columns with missing values: 4 \n",
      " ------------------------------------------- \n",
      "\n",
      "\n",
      "|X_valid_1| --> (columns w/ nan values, number of missing values): \n",
      "\n",
      "Car               13\n",
      "BuildingArea    1294\n",
      "YearBuilt       1068\n",
      "CouncilArea      297\n",
      "dtype: int64 \n",
      "\n",
      "Number of columns with missing values: 4 \n",
      " ------------------------------------------- \n",
      "\n",
      "--> Both X_train_1 and X_valid_1 have nan values in the same columns\n"
     ]
    }
   ],
   "source": [
    "nan_columns(X_train_1, X_valid_1)"
   ]
  },
  {
   "cell_type": "code",
   "execution_count": 10,
   "id": "8f692435-c877-473e-b4e5-cbcc1bbc4a00",
   "metadata": {},
   "outputs": [
    {
     "name": "stdout",
     "output_type": "stream",
     "text": [
      "|X_valid_1| --> (columns w/ nan values, number of missing values): \n",
      "\n",
      "Car               13\n",
      "BuildingArea    1294\n",
      "YearBuilt       1068\n",
      "CouncilArea      297\n",
      "dtype: int64 \n",
      "\n",
      "Number of columns with missing values: 4 \n",
      " ------------------------------------------- \n",
      "\n",
      "\n",
      "|X_train_1| --> (columns w/ nan values, number of missing values): \n",
      "\n",
      "Car               49\n",
      "BuildingArea    5156\n",
      "YearBuilt       4307\n",
      "CouncilArea     1072\n",
      "dtype: int64 \n",
      "\n",
      "Number of columns with missing values: 4 \n",
      " ------------------------------------------- \n",
      "\n",
      "--> Both X_valid_1 and X_train_1 have nan values in the same columns\n"
     ]
    }
   ],
   "source": [
    "nan_columns(X_valid_1, X_train_1)"
   ]
  },
  {
   "cell_type": "markdown",
   "id": "14770caa-c6ef-4c7b-8af2-5813a275a4d3",
   "metadata": {},
   "source": [
    "---"
   ]
  },
  {
   "cell_type": "markdown",
   "id": "cda965a8-80b9-4579-93af-709b279dd9df",
   "metadata": {},
   "source": [
    "# Let's say you got something wrong, in the function's argumet:"
   ]
  },
  {
   "cell_type": "code",
   "execution_count": 11,
   "id": "725351f7-c861-45ab-8ae7-961cf6eef076",
   "metadata": {},
   "outputs": [
    {
     "name": "stdout",
     "output_type": "stream",
     "text": [
      "|X_train| --> (columns w/ nan values, number of missing values): \n",
      "\n",
      "LotFrontage      212\n",
      "Alley           1097\n",
      "MasVnrType       707\n",
      "MasVnrArea         6\n",
      "BsmtQual          28\n",
      "BsmtCond          28\n",
      "BsmtExposure      28\n",
      "BsmtFinType1      28\n",
      "BsmtFinType2      29\n",
      "Electrical         1\n",
      "FireplaceQu      551\n",
      "GarageType        58\n",
      "GarageYrBlt       58\n",
      "GarageFinish      58\n",
      "GarageQual        58\n",
      "GarageCond        58\n",
      "PoolQC          1164\n",
      "Fence            954\n",
      "MiscFeature     1119\n",
      "dtype: int64 \n",
      "\n",
      "Number of columns with missing values: 19 \n",
      " ------------------------------------------- \n",
      "\n",
      "\n",
      "*error* --> |y_train| --> you may have put a wrong input: only pandas DataFrame types are accepted\n"
     ]
    }
   ],
   "source": [
    "nan_columns(X_train, y_train)"
   ]
  },
  {
   "cell_type": "markdown",
   "id": "fc88a72e-4346-4c32-a7d4-e7e805abf55b",
   "metadata": {},
   "source": [
    "---"
   ]
  },
  {
   "cell_type": "markdown",
   "id": "62f98b07-beda-4ef8-b748-e6dd4900dbb2",
   "metadata": {},
   "source": [
    "## Here I used 2 different data training variables (both dataframes) but from different datasets:"
   ]
  },
  {
   "cell_type": "code",
   "execution_count": 12,
   "id": "bff9d772-ec54-4e4e-9841-a809ce4a4a43",
   "metadata": {},
   "outputs": [
    {
     "name": "stdout",
     "output_type": "stream",
     "text": [
      "|X_train| --> (columns w/ nan values, number of missing values): \n",
      "\n",
      "LotFrontage      212\n",
      "Alley           1097\n",
      "MasVnrType       707\n",
      "MasVnrArea         6\n",
      "BsmtQual          28\n",
      "BsmtCond          28\n",
      "BsmtExposure      28\n",
      "BsmtFinType1      28\n",
      "BsmtFinType2      29\n",
      "Electrical         1\n",
      "FireplaceQu      551\n",
      "GarageType        58\n",
      "GarageYrBlt       58\n",
      "GarageFinish      58\n",
      "GarageQual        58\n",
      "GarageCond        58\n",
      "PoolQC          1164\n",
      "Fence            954\n",
      "MiscFeature     1119\n",
      "dtype: int64 \n",
      "\n",
      "Number of columns with missing values: 19 \n",
      " ------------------------------------------- \n",
      "\n",
      "\n",
      "|X_train_1| --> (columns w/ nan values, number of missing values): \n",
      "\n",
      "Car               49\n",
      "BuildingArea    5156\n",
      "YearBuilt       4307\n",
      "CouncilArea     1072\n",
      "dtype: int64 \n",
      "\n",
      "Number of columns with missing values: 4 \n",
      " ------------------------------------------- \n",
      "\n",
      "19 Columns: |'Alley', 'BsmtCond', 'BsmtExposure', 'BsmtFinType1', 'BsmtFinType2', 'BsmtQual', 'Electrical', 'Fence', 'FireplaceQu', 'GarageCond', 'GarageFinish', 'GarageQual', 'GarageType', 'GarageYrBlt', 'LotFrontage', 'MasVnrArea', 'MasVnrType', 'MiscFeature', 'PoolQC'| from X_train have missing values and they are NOT in X_train_1 \n",
      "\n",
      "4 Columns: |'BuildingArea', 'Car', 'CouncilArea', 'YearBuilt'| from X_train_1 have missing values and they are NOT in X_train \n",
      "\n"
     ]
    }
   ],
   "source": [
    "nan_columns(X_train, X_train_1)"
   ]
  },
  {
   "cell_type": "markdown",
   "id": "d4d40f55-fa34-415d-a545-ee0fa07995c0",
   "metadata": {},
   "source": [
    "---"
   ]
  }
 ],
 "metadata": {
  "kernelspec": {
   "display_name": "Python 3 (ipykernel)",
   "language": "python",
   "name": "python3"
  },
  "language_info": {
   "codemirror_mode": {
    "name": "ipython",
    "version": 3
   },
   "file_extension": ".py",
   "mimetype": "text/x-python",
   "name": "python",
   "nbconvert_exporter": "python",
   "pygments_lexer": "ipython3",
   "version": "3.11.0"
  }
 },
 "nbformat": 4,
 "nbformat_minor": 5
}
